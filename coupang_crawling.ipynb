{
 "cells": [
  {
   "cell_type": "code",
   "execution_count": 1,
   "id": "a37c1d58",
   "metadata": {},
   "outputs": [],
   "source": [
    "from selenium import webdriver\n",
    "from bs4 import BeautifulSoup\n",
    "import requests\n",
    "from fake_useragent import UserAgent\n",
    "import ssl\n",
    "import urllib\n",
    "import urllib3\n",
    "import re\n",
    "from time import sleep\n",
    "import ssl\n",
    "import os\n",
    "from tqdm import tqdm\n",
    "import random\n",
    "\n",
    "ssl._create_default_https_context = ssl._create_unverified_context\n",
    "urllib3.disable_warnings(urllib3.exceptions.InsecureRequestWarning)"
   ]
  },
  {
   "cell_type": "code",
   "execution_count": 2,
   "id": "6e2804e2",
   "metadata": {},
   "outputs": [],
   "source": [
    "# class_names_eng = ['blouse', 'cardigan', 'coat', 'hoodie', 'jacket', 'jumper','jumpsuit',\n",
    "#                    'knit', 'longpants', 'onepiece', 'shirt', 'shortpants', 'skirt', 'tshirt']\n",
    "# class_names_kor = ['블라우스', '가디건', '코트', '후드티', '자켓', '점퍼', '점프수트',\n",
    "#                    '니트', '긴바지', '원피스', '셔츠', '반바지', '치마', '티셔츠']\n",
    "# color_list = [\"블랙\", \"화이트\", \"레드\", \"블루\", \"옐로우\", \"그린\", \"퍼플\", \"브라운\", \"네이비\", \"오렌지\", \"그레이\", \"핑크\", \"베이지\"]\n",
    "\n",
    "# 14개\n",
    "dict_class_name = {\n",
    "    '블라우스' : 'blouse',\n",
    "    '가디건' : 'cardigan',\n",
    "    '코트' : 'coat',\n",
    "    '후드티' : 'hoodie',\n",
    "    '자켓' : 'jacket',\n",
    "    '점퍼' : 'jumper',\n",
    "    '점프수트' : 'jumpsuit',\n",
    "    '니트' : 'knit',\n",
    "    '긴바지' : 'longpants',\n",
    "    '원피스' : 'onepiece',\n",
    "    '셔츠' : 'shirt',\n",
    "    '반바지' : 'shortpants',\n",
    "    '치마' : 'skirt',\n",
    "    '티셔츠' : 'tshirt'    \n",
    "}\n",
    "\n",
    "# 13개\n",
    "dict_color_name = {\n",
    "    \"블랙\" : \"black\",\n",
    "    \"화이트\" : \"white\",\n",
    "    \"레드\" : \"red\",\n",
    "    \"블루\" : \"blue\",\n",
    "    \"옐로우\" : \"yellow\",\n",
    "    \"그린\" : \"green\",\n",
    "    \"퍼플\" : \"purple\",\n",
    "    \"브라운\" : \"brown\",\n",
    "    \"네이비\" : \"navy\",\n",
    "    \"오렌지\" : \"orange\",\n",
    "    \"그레이\" : \"gray\",\n",
    "    \"핑크\" : \"pink\",\n",
    "    \"베이지\" : \"beige\"\n",
    "}\n",
    "\n",
    "dict_filter_color = {\n",
    "    \"블랙\" : \"1%23attr_10496%244278%40DEFAULT\",\n",
    "    \"화이트\" : \"1%23attr_10496%244289%40DEFAULT\",\n",
    "    \"레드\" : \"1%23attr_10496%244282%40DEFAULT\",\n",
    "    \"블루\" : \"1%23attr_10496%244286%40DEFAULT\",\n",
    "    \"옐로우\" : \"1%23attr_10496%244284%40DEFAULT\",\n",
    "    \"그린\" : \"1%23attr_10496%244285%40DEFAULT\",\n",
    "    \"퍼플\" : \"1%23attr_10496%244287%40DEFAULT\",\n",
    "    \"브라운\" : \"1%23attr_10496%244290%40DEFAULT\",\n",
    "    \"네이비\" : \"1%23attr_10496%244279%40DEFAULT\",\n",
    "    \"오렌지\" : \"1%23attr_10496%244283%40DEFAULT\",\n",
    "    \"그레이\" : \"1%23attr_10496%244280%40DEFAULT\",\n",
    "    \"핑크\" : \"1%23attr_10496%244288%40DEFAULT\",\n",
    "    \"베이지\" : \"1%23attr_10496%244292%40DEFAULT\"\n",
    "}"
   ]
  },
  {
   "cell_type": "code",
   "execution_count": 3,
   "id": "b11dfdd0",
   "metadata": {},
   "outputs": [],
   "source": [
    "filter_page_num = 1\n",
    "filter_list_size = 72\n",
    "download_folder = 'img_data'\n",
    "new_img_size = 550"
   ]
  },
  {
   "cell_type": "code",
   "execution_count": 4,
   "id": "6d4c3004",
   "metadata": {},
   "outputs": [],
   "source": [
    "def create_directory(directory):\n",
    "    try:\n",
    "        if not os.path.exists(directory):\n",
    "            os.makedirs(directory)\n",
    "    except OSError:\n",
    "        print(\"Error: Failed to create the directory.\")"
   ]
  },
  {
   "cell_type": "code",
   "execution_count": 5,
   "id": "e5fed194",
   "metadata": {},
   "outputs": [],
   "source": [
    "# 다운로드 폴더 생성\n",
    "\n",
    "create_directory(download_folder)\n",
    "\n",
    "for class_name_kor, class_name_eng in dict_class_name.items():\n",
    "    create_directory(download_folder +'/'+ class_name_eng)\n",
    "    \n",
    "    for color_name_kor, color_name_eng in dict_color_name.items():\n",
    "        create_directory(download_folder +'/'+ class_name_eng +'/'+ color_name_eng)"
   ]
  },
  {
   "cell_type": "code",
   "execution_count": null,
   "id": "a4412787",
   "metadata": {
    "scrolled": true
   },
   "outputs": [
    {
     "name": "stdout",
     "output_type": "stream",
     "text": [
      "블라우스 블랙\n",
      "https://www.coupang.com/np/search?component=&q=블라우스&page=1&listSize=72&filter=1%23attr_10496%244278%40DEFAULT\n",
      "검색결과: 72\n"
     ]
    },
    {
     "name": "stderr",
     "output_type": "stream",
     "text": [
      "100%|███████████████████████████████████████████████████████████████| 72/72 [00:05<00:00, 12.06it/s]\n"
     ]
    },
    {
     "name": "stdout",
     "output_type": "stream",
     "text": [
      "블라우스 화이트\n",
      "https://www.coupang.com/np/search?component=&q=블라우스&page=1&listSize=72&filter=1%23attr_10496%244289%40DEFAULT\n",
      "검색결과: 72\n"
     ]
    },
    {
     "name": "stderr",
     "output_type": "stream",
     "text": [
      "100%|███████████████████████████████████████████████████████████████| 72/72 [00:06<00:00, 11.90it/s]\n"
     ]
    },
    {
     "name": "stdout",
     "output_type": "stream",
     "text": [
      "블라우스 레드\n",
      "https://www.coupang.com/np/search?component=&q=블라우스&page=1&listSize=72&filter=1%23attr_10496%244282%40DEFAULT\n",
      "검색결과: 72\n"
     ]
    },
    {
     "name": "stderr",
     "output_type": "stream",
     "text": [
      "100%|███████████████████████████████████████████████████████████████| 72/72 [00:09<00:00,  7.45it/s]\n"
     ]
    },
    {
     "name": "stdout",
     "output_type": "stream",
     "text": [
      "블라우스 블루\n",
      "https://www.coupang.com/np/search?component=&q=블라우스&page=1&listSize=72&filter=1%23attr_10496%244286%40DEFAULT\n",
      "검색결과: 72\n"
     ]
    },
    {
     "name": "stderr",
     "output_type": "stream",
     "text": [
      "100%|███████████████████████████████████████████████████████████████| 72/72 [00:10<00:00,  7.01it/s]\n"
     ]
    },
    {
     "name": "stdout",
     "output_type": "stream",
     "text": [
      "블라우스 옐로우\n",
      "https://www.coupang.com/np/search?component=&q=블라우스&page=1&listSize=72&filter=1%23attr_10496%244284%40DEFAULT\n",
      "검색결과: 72\n"
     ]
    },
    {
     "name": "stderr",
     "output_type": "stream",
     "text": [
      "100%|███████████████████████████████████████████████████████████████| 72/72 [00:12<00:00,  5.93it/s]\n"
     ]
    },
    {
     "name": "stdout",
     "output_type": "stream",
     "text": [
      "블라우스 그린\n",
      "https://www.coupang.com/np/search?component=&q=블라우스&page=1&listSize=72&filter=1%23attr_10496%244285%40DEFAULT\n",
      "검색결과: 72\n"
     ]
    },
    {
     "name": "stderr",
     "output_type": "stream",
     "text": [
      "100%|███████████████████████████████████████████████████████████████| 72/72 [00:12<00:00,  5.76it/s]\n"
     ]
    },
    {
     "name": "stdout",
     "output_type": "stream",
     "text": [
      "블라우스 퍼플\n",
      "https://www.coupang.com/np/search?component=&q=블라우스&page=1&listSize=72&filter=1%23attr_10496%244287%40DEFAULT\n",
      "검색결과: 72\n"
     ]
    },
    {
     "name": "stderr",
     "output_type": "stream",
     "text": [
      "100%|███████████████████████████████████████████████████████████████| 72/72 [00:14<00:00,  4.82it/s]\n"
     ]
    },
    {
     "name": "stdout",
     "output_type": "stream",
     "text": [
      "블라우스 브라운\n",
      "https://www.coupang.com/np/search?component=&q=블라우스&page=1&listSize=72&filter=1%23attr_10496%244290%40DEFAULT\n",
      "검색결과: 72\n"
     ]
    },
    {
     "name": "stderr",
     "output_type": "stream",
     "text": [
      "100%|███████████████████████████████████████████████████████████████| 72/72 [00:15<00:00,  4.69it/s]\n"
     ]
    },
    {
     "name": "stdout",
     "output_type": "stream",
     "text": [
      "블라우스 네이비\n",
      "https://www.coupang.com/np/search?component=&q=블라우스&page=1&listSize=72&filter=1%23attr_10496%244279%40DEFAULT\n",
      "검색결과: 72\n"
     ]
    },
    {
     "name": "stderr",
     "output_type": "stream",
     "text": [
      "100%|███████████████████████████████████████████████████████████████| 72/72 [00:12<00:00,  5.94it/s]\n"
     ]
    },
    {
     "name": "stdout",
     "output_type": "stream",
     "text": [
      "블라우스 오렌지\n",
      "https://www.coupang.com/np/search?component=&q=블라우스&page=1&listSize=72&filter=1%23attr_10496%244283%40DEFAULT\n",
      "검색결과: 72\n"
     ]
    },
    {
     "name": "stderr",
     "output_type": "stream",
     "text": [
      " 78%|█████████████████████████████████████████████████              | 56/72 [00:15<00:04,  3.70it/s]"
     ]
    },
    {
     "name": "stdout",
     "output_type": "stream",
     "text": [
      "!!ERR : 블라우스,오렌지\n"
     ]
    },
    {
     "name": "stderr",
     "output_type": "stream",
     "text": [
      "100%|███████████████████████████████████████████████████████████████| 72/72 [00:18<00:00,  3.81it/s]\n"
     ]
    },
    {
     "name": "stdout",
     "output_type": "stream",
     "text": [
      "블라우스 그레이\n",
      "https://www.coupang.com/np/search?component=&q=블라우스&page=1&listSize=72&filter=1%23attr_10496%244280%40DEFAULT\n",
      "검색결과: 72\n"
     ]
    },
    {
     "name": "stderr",
     "output_type": "stream",
     "text": [
      "100%|███████████████████████████████████████████████████████████████| 72/72 [00:22<00:00,  3.26it/s]\n"
     ]
    },
    {
     "name": "stdout",
     "output_type": "stream",
     "text": [
      "블라우스 핑크\n",
      "https://www.coupang.com/np/search?component=&q=블라우스&page=1&listSize=72&filter=1%23attr_10496%244288%40DEFAULT\n",
      "검색결과: 72\n"
     ]
    },
    {
     "name": "stderr",
     "output_type": "stream",
     "text": [
      "100%|███████████████████████████████████████████████████████████████| 72/72 [00:19<00:00,  3.73it/s]\n"
     ]
    },
    {
     "name": "stdout",
     "output_type": "stream",
     "text": [
      "블라우스 베이지\n",
      "https://www.coupang.com/np/search?component=&q=블라우스&page=1&listSize=72&filter=1%23attr_10496%244292%40DEFAULT\n",
      "검색결과: 72\n"
     ]
    },
    {
     "name": "stderr",
     "output_type": "stream",
     "text": [
      "100%|███████████████████████████████████████████████████████████████| 72/72 [00:20<00:00,  3.51it/s]\n"
     ]
    },
    {
     "name": "stdout",
     "output_type": "stream",
     "text": [
      "가디건 블랙\n",
      "https://www.coupang.com/np/search?component=&q=가디건&page=1&listSize=72&filter=1%23attr_10496%244278%40DEFAULT\n",
      "검색결과: 71\n"
     ]
    },
    {
     "name": "stderr",
     "output_type": "stream",
     "text": [
      "100%|███████████████████████████████████████████████████████████████| 71/71 [00:17<00:00,  4.00it/s]\n"
     ]
    },
    {
     "name": "stdout",
     "output_type": "stream",
     "text": [
      "가디건 화이트\n",
      "https://www.coupang.com/np/search?component=&q=가디건&page=1&listSize=72&filter=1%23attr_10496%244289%40DEFAULT\n",
      "검색결과: 72\n"
     ]
    },
    {
     "name": "stderr",
     "output_type": "stream",
     "text": [
      "100%|███████████████████████████████████████████████████████████████| 72/72 [00:18<00:00,  3.81it/s]\n"
     ]
    },
    {
     "name": "stdout",
     "output_type": "stream",
     "text": [
      "가디건 레드\n",
      "https://www.coupang.com/np/search?component=&q=가디건&page=1&listSize=72&filter=1%23attr_10496%244282%40DEFAULT\n",
      "검색결과: 72\n"
     ]
    },
    {
     "name": "stderr",
     "output_type": "stream",
     "text": [
      "100%|███████████████████████████████████████████████████████████████| 72/72 [00:17<00:00,  4.17it/s]\n"
     ]
    },
    {
     "name": "stdout",
     "output_type": "stream",
     "text": [
      "가디건 블루\n",
      "https://www.coupang.com/np/search?component=&q=가디건&page=1&listSize=72&filter=1%23attr_10496%244286%40DEFAULT\n",
      "검색결과: 72\n"
     ]
    },
    {
     "name": "stderr",
     "output_type": "stream",
     "text": [
      " 64%|████████████████████████████████████████▎                      | 46/72 [00:12<00:08,  3.10it/s]"
     ]
    },
    {
     "name": "stdout",
     "output_type": "stream",
     "text": [
      "!!ERR : 가디건,블루\n"
     ]
    },
    {
     "name": "stderr",
     "output_type": "stream",
     "text": [
      "100%|███████████████████████████████████████████████████████████████| 72/72 [00:19<00:00,  3.78it/s]\n"
     ]
    },
    {
     "name": "stdout",
     "output_type": "stream",
     "text": [
      "가디건 옐로우\n",
      "https://www.coupang.com/np/search?component=&q=가디건&page=1&listSize=72&filter=1%23attr_10496%244284%40DEFAULT\n",
      "검색결과: 72\n"
     ]
    },
    {
     "name": "stderr",
     "output_type": "stream",
     "text": [
      "100%|███████████████████████████████████████████████████████████████| 72/72 [00:24<00:00,  2.98it/s]\n"
     ]
    },
    {
     "name": "stdout",
     "output_type": "stream",
     "text": [
      "가디건 그린\n",
      "https://www.coupang.com/np/search?component=&q=가디건&page=1&listSize=72&filter=1%23attr_10496%244285%40DEFAULT\n",
      "검색결과: 72\n"
     ]
    },
    {
     "name": "stderr",
     "output_type": "stream",
     "text": [
      "100%|███████████████████████████████████████████████████████████████| 72/72 [00:15<00:00,  4.71it/s]\n"
     ]
    },
    {
     "name": "stdout",
     "output_type": "stream",
     "text": [
      "가디건 퍼플\n",
      "https://www.coupang.com/np/search?component=&q=가디건&page=1&listSize=72&filter=1%23attr_10496%244287%40DEFAULT\n",
      "검색결과: 72\n"
     ]
    },
    {
     "name": "stderr",
     "output_type": "stream",
     "text": [
      "100%|███████████████████████████████████████████████████████████████| 72/72 [00:20<00:00,  3.59it/s]\n"
     ]
    },
    {
     "name": "stdout",
     "output_type": "stream",
     "text": [
      "가디건 브라운\n",
      "https://www.coupang.com/np/search?component=&q=가디건&page=1&listSize=72&filter=1%23attr_10496%244290%40DEFAULT\n",
      "검색결과: 72\n"
     ]
    },
    {
     "name": "stderr",
     "output_type": "stream",
     "text": [
      "  4%|██▋                                                             | 3/72 [00:00<00:18,  3.69it/s]"
     ]
    },
    {
     "name": "stdout",
     "output_type": "stream",
     "text": [
      "!!ERR : 가디건,브라운\n"
     ]
    },
    {
     "name": "stderr",
     "output_type": "stream",
     "text": [
      "  7%|████▍                                                           | 5/72 [00:01<00:21,  3.13it/s]"
     ]
    },
    {
     "name": "stdout",
     "output_type": "stream",
     "text": [
      "!!ERR : 가디건,브라운\n"
     ]
    },
    {
     "name": "stderr",
     "output_type": "stream",
     "text": [
      "100%|███████████████████████████████████████████████████████████████| 72/72 [00:20<00:00,  3.47it/s]\n"
     ]
    },
    {
     "name": "stdout",
     "output_type": "stream",
     "text": [
      "가디건 네이비\n",
      "https://www.coupang.com/np/search?component=&q=가디건&page=1&listSize=72&filter=1%23attr_10496%244279%40DEFAULT\n",
      "검색결과: 72\n"
     ]
    },
    {
     "name": "stderr",
     "output_type": "stream",
     "text": [
      " 25%|███████████████▊                                               | 18/72 [00:04<00:14,  3.76it/s]"
     ]
    },
    {
     "name": "stdout",
     "output_type": "stream",
     "text": [
      "!!ERR : 가디건,네이비\n"
     ]
    },
    {
     "name": "stderr",
     "output_type": "stream",
     "text": [
      " 57%|███████████████████████████████████▉                           | 41/72 [00:10<00:08,  3.70it/s]"
     ]
    },
    {
     "name": "stdout",
     "output_type": "stream",
     "text": [
      "!!ERR : 가디건,네이비\n"
     ]
    },
    {
     "name": "stderr",
     "output_type": "stream",
     "text": [
      "100%|███████████████████████████████████████████████████████████████| 72/72 [00:17<00:00,  4.12it/s]\n"
     ]
    },
    {
     "name": "stdout",
     "output_type": "stream",
     "text": [
      "가디건 오렌지\n",
      "https://www.coupang.com/np/search?component=&q=가디건&page=1&listSize=72&filter=1%23attr_10496%244283%40DEFAULT\n",
      "검색결과: 72\n"
     ]
    },
    {
     "name": "stderr",
     "output_type": "stream",
     "text": [
      "100%|███████████████████████████████████████████████████████████████| 72/72 [00:15<00:00,  4.51it/s]\n"
     ]
    },
    {
     "name": "stdout",
     "output_type": "stream",
     "text": [
      "가디건 그레이\n",
      "https://www.coupang.com/np/search?component=&q=가디건&page=1&listSize=72&filter=1%23attr_10496%244280%40DEFAULT\n",
      "검색결과: 72\n"
     ]
    },
    {
     "name": "stderr",
     "output_type": "stream",
     "text": [
      "100%|███████████████████████████████████████████████████████████████| 72/72 [00:16<00:00,  4.45it/s]\n"
     ]
    },
    {
     "name": "stdout",
     "output_type": "stream",
     "text": [
      "가디건 핑크\n",
      "https://www.coupang.com/np/search?component=&q=가디건&page=1&listSize=72&filter=1%23attr_10496%244288%40DEFAULT\n",
      "검색결과: 72\n"
     ]
    },
    {
     "name": "stderr",
     "output_type": "stream",
     "text": [
      "100%|███████████████████████████████████████████████████████████████| 72/72 [00:15<00:00,  4.68it/s]\n"
     ]
    },
    {
     "name": "stdout",
     "output_type": "stream",
     "text": [
      "가디건 베이지\n",
      "https://www.coupang.com/np/search?component=&q=가디건&page=1&listSize=72&filter=1%23attr_10496%244292%40DEFAULT\n",
      "검색결과: 72\n"
     ]
    },
    {
     "name": "stderr",
     "output_type": "stream",
     "text": [
      "100%|███████████████████████████████████████████████████████████████| 72/72 [00:17<00:00,  4.05it/s]\n"
     ]
    },
    {
     "name": "stdout",
     "output_type": "stream",
     "text": [
      "코트 블랙\n",
      "https://www.coupang.com/np/search?component=&q=코트&page=1&listSize=72&filter=1%23attr_10496%244278%40DEFAULT\n",
      "검색결과: 72\n"
     ]
    },
    {
     "name": "stderr",
     "output_type": "stream",
     "text": [
      "100%|███████████████████████████████████████████████████████████████| 72/72 [00:17<00:00,  4.20it/s]\n"
     ]
    },
    {
     "name": "stdout",
     "output_type": "stream",
     "text": [
      "코트 화이트\n",
      "https://www.coupang.com/np/search?component=&q=코트&page=1&listSize=72&filter=1%23attr_10496%244289%40DEFAULT\n",
      "검색결과: 72\n"
     ]
    },
    {
     "name": "stderr",
     "output_type": "stream",
     "text": [
      "100%|███████████████████████████████████████████████████████████████| 72/72 [00:16<00:00,  4.44it/s]\n"
     ]
    },
    {
     "name": "stdout",
     "output_type": "stream",
     "text": [
      "코트 레드\n",
      "https://www.coupang.com/np/search?component=&q=코트&page=1&listSize=72&filter=1%23attr_10496%244282%40DEFAULT\n",
      "검색결과: 72\n"
     ]
    },
    {
     "name": "stderr",
     "output_type": "stream",
     "text": [
      "100%|███████████████████████████████████████████████████████████████| 72/72 [00:18<00:00,  3.91it/s]\n"
     ]
    },
    {
     "name": "stdout",
     "output_type": "stream",
     "text": [
      "코트 블루\n",
      "https://www.coupang.com/np/search?component=&q=코트&page=1&listSize=72&filter=1%23attr_10496%244286%40DEFAULT\n",
      "검색결과: 72\n"
     ]
    },
    {
     "name": "stderr",
     "output_type": "stream",
     "text": [
      "100%|███████████████████████████████████████████████████████████████| 72/72 [00:17<00:00,  4.15it/s]\n"
     ]
    },
    {
     "name": "stdout",
     "output_type": "stream",
     "text": [
      "코트 옐로우\n",
      "https://www.coupang.com/np/search?component=&q=코트&page=1&listSize=72&filter=1%23attr_10496%244284%40DEFAULT\n",
      "검색결과: 72\n"
     ]
    },
    {
     "name": "stderr",
     "output_type": "stream",
     "text": [
      "100%|███████████████████████████████████████████████████████████████| 72/72 [00:17<00:00,  4.21it/s]\n"
     ]
    },
    {
     "name": "stdout",
     "output_type": "stream",
     "text": [
      "코트 그린\n",
      "https://www.coupang.com/np/search?component=&q=코트&page=1&listSize=72&filter=1%23attr_10496%244285%40DEFAULT\n",
      "검색결과: 72\n"
     ]
    },
    {
     "name": "stderr",
     "output_type": "stream",
     "text": [
      "100%|███████████████████████████████████████████████████████████████| 72/72 [00:18<00:00,  3.85it/s]\n"
     ]
    },
    {
     "name": "stdout",
     "output_type": "stream",
     "text": [
      "코트 퍼플\n",
      "https://www.coupang.com/np/search?component=&q=코트&page=1&listSize=72&filter=1%23attr_10496%244287%40DEFAULT\n",
      "검색결과: 72\n"
     ]
    },
    {
     "name": "stderr",
     "output_type": "stream",
     "text": [
      "100%|███████████████████████████████████████████████████████████████| 72/72 [00:16<00:00,  4.43it/s]\n"
     ]
    },
    {
     "name": "stdout",
     "output_type": "stream",
     "text": [
      "코트 브라운\n",
      "https://www.coupang.com/np/search?component=&q=코트&page=1&listSize=72&filter=1%23attr_10496%244290%40DEFAULT\n",
      "검색결과: 72\n"
     ]
    },
    {
     "name": "stderr",
     "output_type": "stream",
     "text": [
      "100%|███████████████████████████████████████████████████████████████| 72/72 [00:16<00:00,  4.40it/s]\n"
     ]
    },
    {
     "name": "stdout",
     "output_type": "stream",
     "text": [
      "코트 네이비\n",
      "https://www.coupang.com/np/search?component=&q=코트&page=1&listSize=72&filter=1%23attr_10496%244279%40DEFAULT\n",
      "검색결과: 72\n"
     ]
    },
    {
     "name": "stderr",
     "output_type": "stream",
     "text": [
      "100%|███████████████████████████████████████████████████████████████| 72/72 [00:15<00:00,  4.76it/s]\n"
     ]
    },
    {
     "name": "stdout",
     "output_type": "stream",
     "text": [
      "코트 오렌지\n",
      "https://www.coupang.com/np/search?component=&q=코트&page=1&listSize=72&filter=1%23attr_10496%244283%40DEFAULT\n",
      "검색결과: 72\n"
     ]
    },
    {
     "name": "stderr",
     "output_type": "stream",
     "text": [
      "100%|███████████████████████████████████████████████████████████████| 72/72 [00:14<00:00,  4.82it/s]\n"
     ]
    },
    {
     "name": "stdout",
     "output_type": "stream",
     "text": [
      "코트 그레이\n",
      "https://www.coupang.com/np/search?component=&q=코트&page=1&listSize=72&filter=1%23attr_10496%244280%40DEFAULT\n",
      "검색결과: 72\n"
     ]
    },
    {
     "name": "stderr",
     "output_type": "stream",
     "text": [
      "100%|███████████████████████████████████████████████████████████████| 72/72 [00:17<00:00,  4.21it/s]\n"
     ]
    },
    {
     "name": "stdout",
     "output_type": "stream",
     "text": [
      "코트 핑크\n",
      "https://www.coupang.com/np/search?component=&q=코트&page=1&listSize=72&filter=1%23attr_10496%244288%40DEFAULT\n",
      "검색결과: 72\n"
     ]
    },
    {
     "name": "stderr",
     "output_type": "stream",
     "text": [
      "100%|███████████████████████████████████████████████████████████████| 72/72 [00:16<00:00,  4.49it/s]\n"
     ]
    },
    {
     "name": "stdout",
     "output_type": "stream",
     "text": [
      "코트 베이지\n",
      "https://www.coupang.com/np/search?component=&q=코트&page=1&listSize=72&filter=1%23attr_10496%244292%40DEFAULT\n",
      "검색결과: 72\n"
     ]
    },
    {
     "name": "stderr",
     "output_type": "stream",
     "text": [
      "100%|███████████████████████████████████████████████████████████████| 72/72 [00:14<00:00,  4.83it/s]\n"
     ]
    },
    {
     "name": "stdout",
     "output_type": "stream",
     "text": [
      "후드티 블랙\n",
      "https://www.coupang.com/np/search?component=&q=후드티&page=1&listSize=72&filter=1%23attr_10496%244278%40DEFAULT\n",
      "검색결과: 72\n"
     ]
    },
    {
     "name": "stderr",
     "output_type": "stream",
     "text": [
      "100%|███████████████████████████████████████████████████████████████| 72/72 [00:17<00:00,  4.15it/s]\n"
     ]
    },
    {
     "name": "stdout",
     "output_type": "stream",
     "text": [
      "후드티 화이트\n",
      "https://www.coupang.com/np/search?component=&q=후드티&page=1&listSize=72&filter=1%23attr_10496%244289%40DEFAULT\n",
      "검색결과: 72\n"
     ]
    },
    {
     "name": "stderr",
     "output_type": "stream",
     "text": [
      "100%|███████████████████████████████████████████████████████████████| 72/72 [00:17<00:00,  4.20it/s]\n"
     ]
    },
    {
     "name": "stdout",
     "output_type": "stream",
     "text": [
      "후드티 레드\n",
      "https://www.coupang.com/np/search?component=&q=후드티&page=1&listSize=72&filter=1%23attr_10496%244282%40DEFAULT\n",
      "검색결과: 72\n"
     ]
    },
    {
     "name": "stderr",
     "output_type": "stream",
     "text": [
      "100%|███████████████████████████████████████████████████████████████| 72/72 [00:16<00:00,  4.25it/s]\n"
     ]
    },
    {
     "name": "stdout",
     "output_type": "stream",
     "text": [
      "후드티 블루\n",
      "https://www.coupang.com/np/search?component=&q=후드티&page=1&listSize=72&filter=1%23attr_10496%244286%40DEFAULT\n",
      "검색결과: 72\n"
     ]
    },
    {
     "name": "stderr",
     "output_type": "stream",
     "text": [
      "100%|███████████████████████████████████████████████████████████████| 72/72 [00:16<00:00,  4.25it/s]\n"
     ]
    },
    {
     "name": "stdout",
     "output_type": "stream",
     "text": [
      "후드티 옐로우\n",
      "https://www.coupang.com/np/search?component=&q=후드티&page=1&listSize=72&filter=1%23attr_10496%244284%40DEFAULT\n",
      "검색결과: 72\n"
     ]
    },
    {
     "name": "stderr",
     "output_type": "stream",
     "text": [
      " 71%|████████████████████████████████████████████▋                  | 51/72 [00:11<00:06,  3.47it/s]"
     ]
    },
    {
     "name": "stdout",
     "output_type": "stream",
     "text": [
      "!!ERR : 후드티,옐로우\n"
     ]
    },
    {
     "name": "stderr",
     "output_type": "stream",
     "text": [
      " 94%|███████████████████████████████████████████████████████████▌   | 68/72 [00:15<00:00,  4.07it/s]"
     ]
    },
    {
     "name": "stdout",
     "output_type": "stream",
     "text": [
      "!!ERR : 후드티,옐로우\n"
     ]
    },
    {
     "name": "stderr",
     "output_type": "stream",
     "text": [
      "100%|███████████████████████████████████████████████████████████████| 72/72 [00:16<00:00,  4.32it/s]\n"
     ]
    },
    {
     "name": "stdout",
     "output_type": "stream",
     "text": [
      "후드티 그린\n",
      "https://www.coupang.com/np/search?component=&q=후드티&page=1&listSize=72&filter=1%23attr_10496%244285%40DEFAULT\n",
      "검색결과: 72\n"
     ]
    },
    {
     "name": "stderr",
     "output_type": "stream",
     "text": [
      "  3%|█▊                                                              | 2/72 [00:00<00:15,  4.59it/s]"
     ]
    },
    {
     "name": "stdout",
     "output_type": "stream",
     "text": [
      "!!ERR : 후드티,그린\n"
     ]
    },
    {
     "name": "stderr",
     "output_type": "stream",
     "text": [
      "100%|███████████████████████████████████████████████████████████████| 72/72 [00:20<00:00,  3.59it/s]\n"
     ]
    },
    {
     "name": "stdout",
     "output_type": "stream",
     "text": [
      "후드티 퍼플\n",
      "https://www.coupang.com/np/search?component=&q=후드티&page=1&listSize=72&filter=1%23attr_10496%244287%40DEFAULT\n",
      "검색결과: 72\n"
     ]
    },
    {
     "name": "stderr",
     "output_type": "stream",
     "text": [
      "100%|███████████████████████████████████████████████████████████████| 72/72 [00:17<00:00,  4.05it/s]\n"
     ]
    },
    {
     "name": "stdout",
     "output_type": "stream",
     "text": [
      "후드티 브라운\n",
      "https://www.coupang.com/np/search?component=&q=후드티&page=1&listSize=72&filter=1%23attr_10496%244290%40DEFAULT\n",
      "검색결과: 72\n"
     ]
    },
    {
     "name": "stderr",
     "output_type": "stream",
     "text": [
      "100%|███████████████████████████████████████████████████████████████| 72/72 [00:16<00:00,  4.36it/s]\n"
     ]
    },
    {
     "name": "stdout",
     "output_type": "stream",
     "text": [
      "후드티 네이비\n",
      "https://www.coupang.com/np/search?component=&q=후드티&page=1&listSize=72&filter=1%23attr_10496%244279%40DEFAULT\n",
      "검색결과: 72\n"
     ]
    },
    {
     "name": "stderr",
     "output_type": "stream",
     "text": [
      "100%|███████████████████████████████████████████████████████████████| 72/72 [00:15<00:00,  4.78it/s]\n"
     ]
    },
    {
     "name": "stdout",
     "output_type": "stream",
     "text": [
      "후드티 오렌지\n",
      "https://www.coupang.com/np/search?component=&q=후드티&page=1&listSize=72&filter=1%23attr_10496%244283%40DEFAULT\n",
      "검색결과: 72\n"
     ]
    },
    {
     "name": "stderr",
     "output_type": "stream",
     "text": [
      "100%|███████████████████████████████████████████████████████████████| 72/72 [00:18<00:00,  3.92it/s]\n"
     ]
    },
    {
     "name": "stdout",
     "output_type": "stream",
     "text": [
      "후드티 그레이\n",
      "https://www.coupang.com/np/search?component=&q=후드티&page=1&listSize=72&filter=1%23attr_10496%244280%40DEFAULT\n",
      "검색결과: 72\n"
     ]
    },
    {
     "name": "stderr",
     "output_type": "stream",
     "text": [
      "100%|███████████████████████████████████████████████████████████████| 72/72 [00:17<00:00,  4.15it/s]\n"
     ]
    },
    {
     "name": "stdout",
     "output_type": "stream",
     "text": [
      "후드티 핑크\n",
      "https://www.coupang.com/np/search?component=&q=후드티&page=1&listSize=72&filter=1%23attr_10496%244288%40DEFAULT\n",
      "검색결과: 72\n"
     ]
    },
    {
     "name": "stderr",
     "output_type": "stream",
     "text": [
      "100%|███████████████████████████████████████████████████████████████| 72/72 [00:16<00:00,  4.27it/s]\n"
     ]
    },
    {
     "name": "stdout",
     "output_type": "stream",
     "text": [
      "후드티 베이지\n",
      "https://www.coupang.com/np/search?component=&q=후드티&page=1&listSize=72&filter=1%23attr_10496%244292%40DEFAULT\n",
      "검색결과: 72\n"
     ]
    },
    {
     "name": "stderr",
     "output_type": "stream",
     "text": [
      "100%|███████████████████████████████████████████████████████████████| 72/72 [00:16<00:00,  4.25it/s]\n"
     ]
    },
    {
     "name": "stdout",
     "output_type": "stream",
     "text": [
      "자켓 블랙\n",
      "https://www.coupang.com/np/search?component=&q=자켓&page=1&listSize=72&filter=1%23attr_10496%244278%40DEFAULT\n",
      "검색결과: 72\n"
     ]
    },
    {
     "name": "stderr",
     "output_type": "stream",
     "text": [
      "100%|███████████████████████████████████████████████████████████████| 72/72 [00:15<00:00,  4.52it/s]\n"
     ]
    },
    {
     "name": "stdout",
     "output_type": "stream",
     "text": [
      "자켓 화이트\n",
      "https://www.coupang.com/np/search?component=&q=자켓&page=1&listSize=72&filter=1%23attr_10496%244289%40DEFAULT\n",
      "검색결과: 72\n"
     ]
    },
    {
     "name": "stderr",
     "output_type": "stream",
     "text": [
      " 78%|█████████████████████████████████████████████████              | 56/72 [00:14<00:02,  5.36it/s]"
     ]
    },
    {
     "name": "stdout",
     "output_type": "stream",
     "text": [
      "!!ERR : 자켓,화이트\n"
     ]
    },
    {
     "name": "stderr",
     "output_type": "stream",
     "text": [
      "100%|███████████████████████████████████████████████████████████████| 72/72 [00:18<00:00,  3.98it/s]\n"
     ]
    },
    {
     "name": "stdout",
     "output_type": "stream",
     "text": [
      "자켓 레드\n",
      "https://www.coupang.com/np/search?component=&q=자켓&page=1&listSize=72&filter=1%23attr_10496%244282%40DEFAULT\n",
      "검색결과: 72\n"
     ]
    },
    {
     "name": "stderr",
     "output_type": "stream",
     "text": [
      " 57%|███████████████████████████████████▉                           | 41/72 [00:10<00:10,  3.04it/s]"
     ]
    },
    {
     "name": "stdout",
     "output_type": "stream",
     "text": [
      "!!ERR : 자켓,레드\n"
     ]
    },
    {
     "name": "stderr",
     "output_type": "stream",
     "text": [
      " 61%|██████████████████████████████████████▌                        | 44/72 [00:11<00:09,  2.80it/s]"
     ]
    },
    {
     "name": "stdout",
     "output_type": "stream",
     "text": [
      "!!ERR : 자켓,레드\n"
     ]
    },
    {
     "name": "stderr",
     "output_type": "stream",
     "text": [
      "100%|███████████████████████████████████████████████████████████████| 72/72 [00:17<00:00,  4.00it/s]\n"
     ]
    },
    {
     "name": "stdout",
     "output_type": "stream",
     "text": [
      "자켓 블루\n",
      "https://www.coupang.com/np/search?component=&q=자켓&page=1&listSize=72&filter=1%23attr_10496%244286%40DEFAULT\n",
      "검색결과: 72\n"
     ]
    },
    {
     "name": "stderr",
     "output_type": "stream",
     "text": [
      "100%|███████████████████████████████████████████████████████████████| 72/72 [00:17<00:00,  4.06it/s]\n"
     ]
    },
    {
     "name": "stdout",
     "output_type": "stream",
     "text": [
      "자켓 옐로우\n",
      "https://www.coupang.com/np/search?component=&q=자켓&page=1&listSize=72&filter=1%23attr_10496%244284%40DEFAULT\n",
      "검색결과: 72\n"
     ]
    },
    {
     "name": "stderr",
     "output_type": "stream",
     "text": [
      " 93%|██████████████████████████████████████████████████████████▋    | 67/72 [00:18<00:01,  4.86it/s]"
     ]
    },
    {
     "name": "stdout",
     "output_type": "stream",
     "text": [
      "!!ERR : 자켓,옐로우\n"
     ]
    },
    {
     "name": "stderr",
     "output_type": "stream",
     "text": [
      "100%|███████████████████████████████████████████████████████████████| 72/72 [00:19<00:00,  3.77it/s]\n"
     ]
    },
    {
     "name": "stdout",
     "output_type": "stream",
     "text": [
      "자켓 그린\n",
      "https://www.coupang.com/np/search?component=&q=자켓&page=1&listSize=72&filter=1%23attr_10496%244285%40DEFAULT\n",
      "검색결과: 72\n"
     ]
    },
    {
     "name": "stderr",
     "output_type": "stream",
     "text": [
      "100%|███████████████████████████████████████████████████████████████| 72/72 [00:17<00:00,  4.14it/s]\n"
     ]
    },
    {
     "name": "stdout",
     "output_type": "stream",
     "text": [
      "자켓 퍼플\n",
      "https://www.coupang.com/np/search?component=&q=자켓&page=1&listSize=72&filter=1%23attr_10496%244287%40DEFAULT\n",
      "검색결과: 72\n"
     ]
    },
    {
     "name": "stderr",
     "output_type": "stream",
     "text": [
      "100%|███████████████████████████████████████████████████████████████| 72/72 [00:15<00:00,  4.79it/s]\n"
     ]
    },
    {
     "name": "stdout",
     "output_type": "stream",
     "text": [
      "자켓 브라운\n",
      "https://www.coupang.com/np/search?component=&q=자켓&page=1&listSize=72&filter=1%23attr_10496%244290%40DEFAULT\n",
      "검색결과: 72\n"
     ]
    },
    {
     "name": "stderr",
     "output_type": "stream",
     "text": [
      "100%|███████████████████████████████████████████████████████████████| 72/72 [00:14<00:00,  4.85it/s]\n"
     ]
    },
    {
     "name": "stdout",
     "output_type": "stream",
     "text": [
      "자켓 네이비\n",
      "https://www.coupang.com/np/search?component=&q=자켓&page=1&listSize=72&filter=1%23attr_10496%244279%40DEFAULT\n",
      "검색결과: 72\n"
     ]
    },
    {
     "name": "stderr",
     "output_type": "stream",
     "text": [
      "100%|███████████████████████████████████████████████████████████████| 72/72 [00:17<00:00,  4.08it/s]\n"
     ]
    },
    {
     "name": "stdout",
     "output_type": "stream",
     "text": [
      "자켓 오렌지\n",
      "https://www.coupang.com/np/search?component=&q=자켓&page=1&listSize=72&filter=1%23attr_10496%244283%40DEFAULT\n",
      "검색결과: 72\n"
     ]
    },
    {
     "name": "stderr",
     "output_type": "stream",
     "text": [
      "100%|███████████████████████████████████████████████████████████████| 72/72 [00:15<00:00,  4.59it/s]\n"
     ]
    },
    {
     "name": "stdout",
     "output_type": "stream",
     "text": [
      "자켓 그레이\n",
      "https://www.coupang.com/np/search?component=&q=자켓&page=1&listSize=72&filter=1%23attr_10496%244280%40DEFAULT\n",
      "검색결과: 72\n"
     ]
    },
    {
     "name": "stderr",
     "output_type": "stream",
     "text": [
      "  4%|██▋                                                             | 3/72 [00:00<00:14,  4.60it/s]"
     ]
    },
    {
     "name": "stdout",
     "output_type": "stream",
     "text": [
      "!!ERR : 자켓,그레이\n"
     ]
    },
    {
     "name": "stderr",
     "output_type": "stream",
     "text": [
      "100%|███████████████████████████████████████████████████████████████| 72/72 [00:17<00:00,  4.11it/s]\n"
     ]
    },
    {
     "name": "stdout",
     "output_type": "stream",
     "text": [
      "자켓 핑크\n",
      "https://www.coupang.com/np/search?component=&q=자켓&page=1&listSize=72&filter=1%23attr_10496%244288%40DEFAULT\n",
      "검색결과: 72\n"
     ]
    },
    {
     "name": "stderr",
     "output_type": "stream",
     "text": [
      "100%|███████████████████████████████████████████████████████████████| 72/72 [00:16<00:00,  4.37it/s]\n"
     ]
    },
    {
     "name": "stdout",
     "output_type": "stream",
     "text": [
      "자켓 베이지\n",
      "https://www.coupang.com/np/search?component=&q=자켓&page=1&listSize=72&filter=1%23attr_10496%244292%40DEFAULT\n",
      "검색결과: 72\n"
     ]
    },
    {
     "name": "stderr",
     "output_type": "stream",
     "text": [
      " 25%|███████████████▊                                               | 18/72 [00:03<00:12,  4.24it/s]"
     ]
    },
    {
     "name": "stdout",
     "output_type": "stream",
     "text": [
      "!!ERR : 자켓,베이지\n"
     ]
    },
    {
     "name": "stderr",
     "output_type": "stream",
     "text": [
      " 88%|███████████████████████████████████████████████████████▏       | 63/72 [00:14<00:01,  6.08it/s]"
     ]
    },
    {
     "name": "stdout",
     "output_type": "stream",
     "text": [
      "!!ERR : 자켓,베이지\n"
     ]
    },
    {
     "name": "stderr",
     "output_type": "stream",
     "text": [
      "100%|███████████████████████████████████████████████████████████████| 72/72 [00:16<00:00,  4.34it/s]\n"
     ]
    },
    {
     "name": "stdout",
     "output_type": "stream",
     "text": [
      "점퍼 블랙\n",
      "https://www.coupang.com/np/search?component=&q=점퍼&page=1&listSize=72&filter=1%23attr_10496%244278%40DEFAULT\n",
      "검색결과: 72\n"
     ]
    },
    {
     "name": "stderr",
     "output_type": "stream",
     "text": [
      " 92%|█████████████████████████████████████████████████████████▊     | 66/72 [00:16<00:01,  4.05it/s]"
     ]
    },
    {
     "name": "stdout",
     "output_type": "stream",
     "text": [
      "!!ERR : 점퍼,블랙\n"
     ]
    },
    {
     "name": "stderr",
     "output_type": "stream",
     "text": [
      "100%|███████████████████████████████████████████████████████████████| 72/72 [00:17<00:00,  4.10it/s]\n"
     ]
    },
    {
     "name": "stdout",
     "output_type": "stream",
     "text": [
      "점퍼 화이트\n",
      "https://www.coupang.com/np/search?component=&q=점퍼&page=1&listSize=72&filter=1%23attr_10496%244289%40DEFAULT\n",
      "검색결과: 72\n"
     ]
    },
    {
     "name": "stderr",
     "output_type": "stream",
     "text": [
      "  1%|▉                                                               | 1/72 [00:00<00:13,  5.31it/s]"
     ]
    },
    {
     "name": "stdout",
     "output_type": "stream",
     "text": [
      "!!ERR : 점퍼,화이트\n"
     ]
    },
    {
     "name": "stderr",
     "output_type": "stream",
     "text": [
      " 72%|█████████████████████████████████████████████▌                 | 52/72 [00:14<00:03,  5.56it/s]"
     ]
    },
    {
     "name": "stdout",
     "output_type": "stream",
     "text": [
      "!!ERR : 점퍼,화이트\n"
     ]
    },
    {
     "name": "stderr",
     "output_type": "stream",
     "text": [
      "100%|███████████████████████████████████████████████████████████████| 72/72 [00:19<00:00,  3.75it/s]\n"
     ]
    },
    {
     "name": "stdout",
     "output_type": "stream",
     "text": [
      "점퍼 레드\n",
      "https://www.coupang.com/np/search?component=&q=점퍼&page=1&listSize=72&filter=1%23attr_10496%244282%40DEFAULT\n",
      "검색결과: 72\n"
     ]
    },
    {
     "name": "stderr",
     "output_type": "stream",
     "text": [
      "  7%|████▍                                                           | 5/72 [00:01<00:19,  3.42it/s]"
     ]
    },
    {
     "name": "stdout",
     "output_type": "stream",
     "text": [
      "!!ERR : 점퍼,레드\n"
     ]
    },
    {
     "name": "stderr",
     "output_type": "stream",
     "text": [
      " 39%|████████████████████████▌                                      | 28/72 [00:07<00:09,  4.46it/s]"
     ]
    },
    {
     "name": "stdout",
     "output_type": "stream",
     "text": [
      "!!ERR : 점퍼,레드\n"
     ]
    },
    {
     "name": "stderr",
     "output_type": "stream",
     "text": [
      "100%|███████████████████████████████████████████████████████████████| 72/72 [00:18<00:00,  3.86it/s]\n"
     ]
    },
    {
     "name": "stdout",
     "output_type": "stream",
     "text": [
      "점퍼 블루\n",
      "https://www.coupang.com/np/search?component=&q=점퍼&page=1&listSize=72&filter=1%23attr_10496%244286%40DEFAULT\n",
      "검색결과: 72\n"
     ]
    },
    {
     "name": "stderr",
     "output_type": "stream",
     "text": [
      " 29%|██████████████████▍                                            | 21/72 [00:07<00:13,  3.81it/s]"
     ]
    },
    {
     "name": "stdout",
     "output_type": "stream",
     "text": [
      "!!ERR : 점퍼,블루\n"
     ]
    },
    {
     "name": "stderr",
     "output_type": "stream",
     "text": [
      "100%|███████████████████████████████████████████████████████████████| 72/72 [00:19<00:00,  3.65it/s]\n"
     ]
    },
    {
     "name": "stdout",
     "output_type": "stream",
     "text": [
      "점퍼 옐로우\n",
      "https://www.coupang.com/np/search?component=&q=점퍼&page=1&listSize=72&filter=1%23attr_10496%244284%40DEFAULT\n",
      "검색결과: 72\n"
     ]
    },
    {
     "name": "stderr",
     "output_type": "stream",
     "text": [
      "100%|███████████████████████████████████████████████████████████████| 72/72 [00:19<00:00,  3.73it/s]\n"
     ]
    },
    {
     "name": "stdout",
     "output_type": "stream",
     "text": [
      "점퍼 그린\n",
      "https://www.coupang.com/np/search?component=&q=점퍼&page=1&listSize=72&filter=1%23attr_10496%244285%40DEFAULT\n",
      "검색결과: 72\n"
     ]
    },
    {
     "name": "stderr",
     "output_type": "stream",
     "text": [
      "100%|███████████████████████████████████████████████████████████████| 72/72 [00:17<00:00,  4.07it/s]\n"
     ]
    },
    {
     "name": "stdout",
     "output_type": "stream",
     "text": [
      "점퍼 퍼플\n",
      "https://www.coupang.com/np/search?component=&q=점퍼&page=1&listSize=72&filter=1%23attr_10496%244287%40DEFAULT\n",
      "검색결과: 72\n"
     ]
    },
    {
     "name": "stderr",
     "output_type": "stream",
     "text": [
      "100%|███████████████████████████████████████████████████████████████| 72/72 [00:15<00:00,  4.59it/s]\n"
     ]
    },
    {
     "name": "stdout",
     "output_type": "stream",
     "text": [
      "점퍼 브라운\n",
      "https://www.coupang.com/np/search?component=&q=점퍼&page=1&listSize=72&filter=1%23attr_10496%244290%40DEFAULT\n",
      "검색결과: 72\n"
     ]
    },
    {
     "name": "stderr",
     "output_type": "stream",
     "text": [
      "100%|███████████████████████████████████████████████████████████████| 72/72 [00:16<00:00,  4.44it/s]\n"
     ]
    },
    {
     "name": "stdout",
     "output_type": "stream",
     "text": [
      "점퍼 네이비\n",
      "https://www.coupang.com/np/search?component=&q=점퍼&page=1&listSize=72&filter=1%23attr_10496%244279%40DEFAULT\n",
      "검색결과: 72\n"
     ]
    },
    {
     "name": "stderr",
     "output_type": "stream",
     "text": [
      "100%|███████████████████████████████████████████████████████████████| 72/72 [00:14<00:00,  4.94it/s]\n"
     ]
    },
    {
     "name": "stdout",
     "output_type": "stream",
     "text": [
      "점퍼 오렌지\n",
      "https://www.coupang.com/np/search?component=&q=점퍼&page=1&listSize=72&filter=1%23attr_10496%244283%40DEFAULT\n",
      "검색결과: 72\n"
     ]
    },
    {
     "name": "stderr",
     "output_type": "stream",
     "text": [
      "100%|███████████████████████████████████████████████████████████████| 72/72 [00:16<00:00,  4.40it/s]\n"
     ]
    },
    {
     "name": "stdout",
     "output_type": "stream",
     "text": [
      "점퍼 그레이\n",
      "https://www.coupang.com/np/search?component=&q=점퍼&page=1&listSize=72&filter=1%23attr_10496%244280%40DEFAULT\n",
      "검색결과: 72\n"
     ]
    },
    {
     "name": "stderr",
     "output_type": "stream",
     "text": [
      "100%|███████████████████████████████████████████████████████████████| 72/72 [00:16<00:00,  4.46it/s]\n"
     ]
    },
    {
     "name": "stdout",
     "output_type": "stream",
     "text": [
      "점퍼 핑크\n",
      "https://www.coupang.com/np/search?component=&q=점퍼&page=1&listSize=72&filter=1%23attr_10496%244288%40DEFAULT\n",
      "검색결과: 72\n"
     ]
    },
    {
     "name": "stderr",
     "output_type": "stream",
     "text": [
      " 39%|████████████████████████▌                                      | 28/72 [00:05<00:07,  6.21it/s]"
     ]
    },
    {
     "name": "stdout",
     "output_type": "stream",
     "text": [
      "!!ERR : 점퍼,핑크\n"
     ]
    },
    {
     "name": "stderr",
     "output_type": "stream",
     "text": [
      "100%|███████████████████████████████████████████████████████████████| 72/72 [00:13<00:00,  5.15it/s]\n"
     ]
    },
    {
     "name": "stdout",
     "output_type": "stream",
     "text": [
      "점퍼 베이지\n",
      "https://www.coupang.com/np/search?component=&q=점퍼&page=1&listSize=72&filter=1%23attr_10496%244292%40DEFAULT\n",
      "검색결과: 72\n"
     ]
    },
    {
     "name": "stderr",
     "output_type": "stream",
     "text": [
      " 67%|██████████████████████████████████████████                     | 48/72 [00:09<00:04,  4.99it/s]"
     ]
    },
    {
     "name": "stdout",
     "output_type": "stream",
     "text": [
      "!!ERR : 점퍼,베이지\n"
     ]
    },
    {
     "name": "stderr",
     "output_type": "stream",
     "text": [
      " 92%|█████████████████████████████████████████████████████████▊     | 66/72 [00:14<00:01,  4.54it/s]"
     ]
    },
    {
     "name": "stdout",
     "output_type": "stream",
     "text": [
      "!!ERR : 점퍼,베이지\n"
     ]
    },
    {
     "name": "stderr",
     "output_type": "stream",
     "text": [
      "100%|███████████████████████████████████████████████████████████████| 72/72 [00:15<00:00,  4.65it/s]\n"
     ]
    },
    {
     "name": "stdout",
     "output_type": "stream",
     "text": [
      "점프수트 블랙\n",
      "https://www.coupang.com/np/search?component=&q=점프수트&page=1&listSize=72&filter=1%23attr_10496%244278%40DEFAULT\n",
      "검색결과: 72\n"
     ]
    },
    {
     "name": "stderr",
     "output_type": "stream",
     "text": [
      "100%|███████████████████████████████████████████████████████████████| 72/72 [00:19<00:00,  3.74it/s]\n"
     ]
    },
    {
     "name": "stdout",
     "output_type": "stream",
     "text": [
      "점프수트 화이트\n",
      "https://www.coupang.com/np/search?component=&q=점프수트&page=1&listSize=72&filter=1%23attr_10496%244289%40DEFAULT\n",
      "검색결과: 72\n"
     ]
    },
    {
     "name": "stderr",
     "output_type": "stream",
     "text": [
      "100%|███████████████████████████████████████████████████████████████| 72/72 [00:16<00:00,  4.49it/s]\n"
     ]
    },
    {
     "name": "stdout",
     "output_type": "stream",
     "text": [
      "점프수트 레드\n",
      "https://www.coupang.com/np/search?component=&q=점프수트&page=1&listSize=72&filter=1%23attr_10496%244282%40DEFAULT\n",
      "검색결과: 72\n"
     ]
    },
    {
     "name": "stderr",
     "output_type": "stream",
     "text": [
      "100%|███████████████████████████████████████████████████████████████| 72/72 [00:15<00:00,  4.77it/s]\n"
     ]
    },
    {
     "name": "stdout",
     "output_type": "stream",
     "text": [
      "점프수트 블루\n",
      "https://www.coupang.com/np/search?component=&q=점프수트&page=1&listSize=72&filter=1%23attr_10496%244286%40DEFAULT\n",
      "검색결과: 72\n"
     ]
    },
    {
     "name": "stderr",
     "output_type": "stream",
     "text": [
      "100%|███████████████████████████████████████████████████████████████| 72/72 [00:14<00:00,  4.95it/s]\n"
     ]
    },
    {
     "name": "stdout",
     "output_type": "stream",
     "text": [
      "점프수트 옐로우\n",
      "https://www.coupang.com/np/search?component=&q=점프수트&page=1&listSize=72&filter=1%23attr_10496%244284%40DEFAULT\n",
      "검색결과: 72\n"
     ]
    },
    {
     "name": "stderr",
     "output_type": "stream",
     "text": [
      "100%|███████████████████████████████████████████████████████████████| 72/72 [00:15<00:00,  4.73it/s]\n"
     ]
    },
    {
     "name": "stdout",
     "output_type": "stream",
     "text": [
      "점프수트 그린\n",
      "https://www.coupang.com/np/search?component=&q=점프수트&page=1&listSize=72&filter=1%23attr_10496%244285%40DEFAULT\n",
      "검색결과: 72\n"
     ]
    },
    {
     "name": "stderr",
     "output_type": "stream",
     "text": [
      "100%|███████████████████████████████████████████████████████████████| 72/72 [00:15<00:00,  4.80it/s]\n"
     ]
    },
    {
     "name": "stdout",
     "output_type": "stream",
     "text": [
      "점프수트 퍼플\n",
      "https://www.coupang.com/np/search?component=&q=점프수트&page=1&listSize=72&filter=1%23attr_10496%244287%40DEFAULT\n",
      "검색결과: 72\n"
     ]
    },
    {
     "name": "stderr",
     "output_type": "stream",
     "text": [
      " 56%|███████████████████████████████████                            | 40/72 [00:11<00:07,  4.34it/s]"
     ]
    },
    {
     "name": "stdout",
     "output_type": "stream",
     "text": [
      "!!ERR : 점프수트,퍼플\n"
     ]
    },
    {
     "name": "stderr",
     "output_type": "stream",
     "text": [
      "100%|███████████████████████████████████████████████████████████████| 72/72 [00:20<00:00,  3.60it/s]\n"
     ]
    },
    {
     "name": "stdout",
     "output_type": "stream",
     "text": [
      "점프수트 브라운\n",
      "https://www.coupang.com/np/search?component=&q=점프수트&page=1&listSize=72&filter=1%23attr_10496%244290%40DEFAULT\n",
      "검색결과: 72\n"
     ]
    },
    {
     "name": "stderr",
     "output_type": "stream",
     "text": [
      "100%|███████████████████████████████████████████████████████████████| 72/72 [00:14<00:00,  4.91it/s]\n"
     ]
    },
    {
     "name": "stdout",
     "output_type": "stream",
     "text": [
      "점프수트 네이비\n",
      "https://www.coupang.com/np/search?component=&q=점프수트&page=1&listSize=72&filter=1%23attr_10496%244279%40DEFAULT\n",
      "검색결과: 72\n"
     ]
    },
    {
     "name": "stderr",
     "output_type": "stream",
     "text": [
      "100%|███████████████████████████████████████████████████████████████| 72/72 [00:17<00:00,  4.19it/s]\n"
     ]
    },
    {
     "name": "stdout",
     "output_type": "stream",
     "text": [
      "점프수트 오렌지\n",
      "https://www.coupang.com/np/search?component=&q=점프수트&page=1&listSize=72&filter=1%23attr_10496%244283%40DEFAULT\n",
      "검색결과: 72\n"
     ]
    },
    {
     "name": "stderr",
     "output_type": "stream",
     "text": [
      "100%|███████████████████████████████████████████████████████████████| 72/72 [00:19<00:00,  3.77it/s]\n"
     ]
    },
    {
     "name": "stdout",
     "output_type": "stream",
     "text": [
      "점프수트 그레이\n",
      "https://www.coupang.com/np/search?component=&q=점프수트&page=1&listSize=72&filter=1%23attr_10496%244280%40DEFAULT\n",
      "검색결과: 72\n"
     ]
    },
    {
     "name": "stderr",
     "output_type": "stream",
     "text": [
      "100%|███████████████████████████████████████████████████████████████| 72/72 [00:18<00:00,  3.89it/s]\n"
     ]
    },
    {
     "name": "stdout",
     "output_type": "stream",
     "text": [
      "점프수트 핑크\n",
      "https://www.coupang.com/np/search?component=&q=점프수트&page=1&listSize=72&filter=1%23attr_10496%244288%40DEFAULT\n",
      "검색결과: 72\n"
     ]
    },
    {
     "name": "stderr",
     "output_type": "stream",
     "text": [
      "100%|███████████████████████████████████████████████████████████████| 72/72 [00:15<00:00,  4.79it/s]\n"
     ]
    },
    {
     "name": "stdout",
     "output_type": "stream",
     "text": [
      "점프수트 베이지\n",
      "https://www.coupang.com/np/search?component=&q=점프수트&page=1&listSize=72&filter=1%23attr_10496%244292%40DEFAULT\n",
      "검색결과: 72\n"
     ]
    },
    {
     "name": "stderr",
     "output_type": "stream",
     "text": [
      "100%|███████████████████████████████████████████████████████████████| 72/72 [00:18<00:00,  3.88it/s]\n"
     ]
    },
    {
     "name": "stdout",
     "output_type": "stream",
     "text": [
      "니트 블랙\n",
      "https://www.coupang.com/np/search?component=&q=니트&page=1&listSize=72&filter=1%23attr_10496%244278%40DEFAULT\n",
      "검색결과: 72\n"
     ]
    },
    {
     "name": "stderr",
     "output_type": "stream",
     "text": [
      "100%|███████████████████████████████████████████████████████████████| 72/72 [00:14<00:00,  5.05it/s]\n"
     ]
    },
    {
     "name": "stdout",
     "output_type": "stream",
     "text": [
      "니트 화이트\n",
      "https://www.coupang.com/np/search?component=&q=니트&page=1&listSize=72&filter=1%23attr_10496%244289%40DEFAULT\n",
      "검색결과: 72\n"
     ]
    },
    {
     "name": "stderr",
     "output_type": "stream",
     "text": [
      "100%|███████████████████████████████████████████████████████████████| 72/72 [00:17<00:00,  4.18it/s]\n"
     ]
    },
    {
     "name": "stdout",
     "output_type": "stream",
     "text": [
      "니트 레드\n",
      "https://www.coupang.com/np/search?component=&q=니트&page=1&listSize=72&filter=1%23attr_10496%244282%40DEFAULT\n",
      "검색결과: 72\n"
     ]
    },
    {
     "name": "stderr",
     "output_type": "stream",
     "text": [
      "100%|███████████████████████████████████████████████████████████████| 72/72 [00:14<00:00,  4.93it/s]\n"
     ]
    },
    {
     "name": "stdout",
     "output_type": "stream",
     "text": [
      "니트 블루\n",
      "https://www.coupang.com/np/search?component=&q=니트&page=1&listSize=72&filter=1%23attr_10496%244286%40DEFAULT\n",
      "검색결과: 72\n"
     ]
    },
    {
     "name": "stderr",
     "output_type": "stream",
     "text": [
      "100%|███████████████████████████████████████████████████████████████| 72/72 [00:15<00:00,  4.67it/s]\n"
     ]
    },
    {
     "name": "stdout",
     "output_type": "stream",
     "text": [
      "니트 옐로우\n",
      "https://www.coupang.com/np/search?component=&q=니트&page=1&listSize=72&filter=1%23attr_10496%244284%40DEFAULT\n",
      "검색결과: 72\n"
     ]
    },
    {
     "name": "stderr",
     "output_type": "stream",
     "text": [
      "100%|███████████████████████████████████████████████████████████████| 72/72 [00:16<00:00,  4.28it/s]\n"
     ]
    },
    {
     "name": "stdout",
     "output_type": "stream",
     "text": [
      "니트 그린\n",
      "https://www.coupang.com/np/search?component=&q=니트&page=1&listSize=72&filter=1%23attr_10496%244285%40DEFAULT\n",
      "검색결과: 72\n"
     ]
    },
    {
     "name": "stderr",
     "output_type": "stream",
     "text": [
      "100%|███████████████████████████████████████████████████████████████| 72/72 [00:16<00:00,  4.47it/s]\n"
     ]
    },
    {
     "name": "stdout",
     "output_type": "stream",
     "text": [
      "니트 퍼플\n",
      "https://www.coupang.com/np/search?component=&q=니트&page=1&listSize=72&filter=1%23attr_10496%244287%40DEFAULT\n",
      "검색결과: 72\n"
     ]
    },
    {
     "name": "stderr",
     "output_type": "stream",
     "text": [
      "100%|███████████████████████████████████████████████████████████████| 72/72 [00:19<00:00,  3.70it/s]\n"
     ]
    },
    {
     "name": "stdout",
     "output_type": "stream",
     "text": [
      "니트 브라운\n",
      "https://www.coupang.com/np/search?component=&q=니트&page=1&listSize=72&filter=1%23attr_10496%244290%40DEFAULT\n",
      "검색결과: 72\n"
     ]
    },
    {
     "name": "stderr",
     "output_type": "stream",
     "text": [
      " 97%|█████████████████████████████████████████████████████████████▎ | 70/72 [00:15<00:00,  4.85it/s]"
     ]
    },
    {
     "name": "stdout",
     "output_type": "stream",
     "text": [
      "!!ERR : 니트,브라운\n"
     ]
    },
    {
     "name": "stderr",
     "output_type": "stream",
     "text": [
      "100%|███████████████████████████████████████████████████████████████| 72/72 [00:16<00:00,  4.31it/s]\n"
     ]
    },
    {
     "name": "stdout",
     "output_type": "stream",
     "text": [
      "니트 네이비\n",
      "https://www.coupang.com/np/search?component=&q=니트&page=1&listSize=72&filter=1%23attr_10496%244279%40DEFAULT\n",
      "검색결과: 72\n"
     ]
    },
    {
     "name": "stderr",
     "output_type": "stream",
     "text": [
      " 61%|██████████████████████████████████████▌                        | 44/72 [00:09<00:06,  4.08it/s]"
     ]
    },
    {
     "name": "stdout",
     "output_type": "stream",
     "text": [
      "!!ERR : 니트,네이비\n"
     ]
    },
    {
     "name": "stderr",
     "output_type": "stream",
     "text": [
      "100%|███████████████████████████████████████████████████████████████| 72/72 [00:15<00:00,  4.52it/s]\n"
     ]
    },
    {
     "name": "stdout",
     "output_type": "stream",
     "text": [
      "니트 오렌지\n",
      "https://www.coupang.com/np/search?component=&q=니트&page=1&listSize=72&filter=1%23attr_10496%244283%40DEFAULT\n",
      "검색결과: 72\n"
     ]
    },
    {
     "name": "stderr",
     "output_type": "stream",
     "text": [
      "100%|███████████████████████████████████████████████████████████████| 72/72 [00:15<00:00,  4.56it/s]\n"
     ]
    },
    {
     "name": "stdout",
     "output_type": "stream",
     "text": [
      "니트 그레이\n",
      "https://www.coupang.com/np/search?component=&q=니트&page=1&listSize=72&filter=1%23attr_10496%244280%40DEFAULT\n",
      "검색결과: 72\n"
     ]
    },
    {
     "name": "stderr",
     "output_type": "stream",
     "text": [
      "100%|███████████████████████████████████████████████████████████████| 72/72 [00:17<00:00,  4.16it/s]\n"
     ]
    },
    {
     "name": "stdout",
     "output_type": "stream",
     "text": [
      "니트 핑크\n",
      "https://www.coupang.com/np/search?component=&q=니트&page=1&listSize=72&filter=1%23attr_10496%244288%40DEFAULT\n",
      "검색결과: 72\n"
     ]
    },
    {
     "name": "stderr",
     "output_type": "stream",
     "text": [
      "100%|███████████████████████████████████████████████████████████████| 72/72 [00:16<00:00,  4.44it/s]\n"
     ]
    },
    {
     "name": "stdout",
     "output_type": "stream",
     "text": [
      "니트 베이지\n",
      "https://www.coupang.com/np/search?component=&q=니트&page=1&listSize=72&filter=1%23attr_10496%244292%40DEFAULT\n",
      "검색결과: 72\n"
     ]
    },
    {
     "name": "stderr",
     "output_type": "stream",
     "text": [
      "100%|███████████████████████████████████████████████████████████████| 72/72 [00:16<00:00,  4.33it/s]\n"
     ]
    },
    {
     "name": "stdout",
     "output_type": "stream",
     "text": [
      "긴바지 블랙\n",
      "https://www.coupang.com/np/search?component=&q=긴바지&page=1&listSize=72&filter=1%23attr_10496%244278%40DEFAULT\n",
      "검색결과: 72\n"
     ]
    },
    {
     "name": "stderr",
     "output_type": "stream",
     "text": [
      "100%|███████████████████████████████████████████████████████████████| 72/72 [00:18<00:00,  3.88it/s]\n"
     ]
    },
    {
     "name": "stdout",
     "output_type": "stream",
     "text": [
      "긴바지 화이트\n",
      "https://www.coupang.com/np/search?component=&q=긴바지&page=1&listSize=72&filter=1%23attr_10496%244289%40DEFAULT\n",
      "검색결과: 72\n"
     ]
    },
    {
     "name": "stderr",
     "output_type": "stream",
     "text": [
      "100%|███████████████████████████████████████████████████████████████| 72/72 [00:15<00:00,  4.62it/s]\n"
     ]
    },
    {
     "name": "stdout",
     "output_type": "stream",
     "text": [
      "긴바지 레드\n",
      "https://www.coupang.com/np/search?component=&q=긴바지&page=1&listSize=72&filter=1%23attr_10496%244282%40DEFAULT\n",
      "검색결과: 71\n"
     ]
    },
    {
     "name": "stderr",
     "output_type": "stream",
     "text": [
      " 51%|███████████████████████████████▉                               | 36/71 [00:08<00:06,  5.29it/s]"
     ]
    },
    {
     "name": "stdout",
     "output_type": "stream",
     "text": [
      "!!ERR : 긴바지,레드\n"
     ]
    },
    {
     "name": "stderr",
     "output_type": "stream",
     "text": [
      "100%|███████████████████████████████████████████████████████████████| 71/71 [00:17<00:00,  4.04it/s]\n"
     ]
    },
    {
     "name": "stdout",
     "output_type": "stream",
     "text": [
      "긴바지 블루\n",
      "https://www.coupang.com/np/search?component=&q=긴바지&page=1&listSize=72&filter=1%23attr_10496%244286%40DEFAULT\n",
      "검색결과: 72\n"
     ]
    },
    {
     "name": "stderr",
     "output_type": "stream",
     "text": [
      " 60%|█████████████████████████████████████▋                         | 43/72 [00:08<00:05,  5.54it/s]"
     ]
    },
    {
     "name": "stdout",
     "output_type": "stream",
     "text": [
      "!!ERR : 긴바지,블루\n"
     ]
    },
    {
     "name": "stderr",
     "output_type": "stream",
     "text": [
      " 72%|█████████████████████████████████████████████▌                 | 52/72 [00:11<00:04,  4.48it/s]"
     ]
    }
   ],
   "source": [
    "ua = UserAgent(verify_ssl=False)\n",
    "user_agent = ua.random\n",
    "    \n",
    "for class_name_kor, class_name_eng in dict_class_name.items():\n",
    "    for color_name_kor, color_name_eng in dict_color_name.items():\n",
    "\n",
    "        url = f'https://www.coupang.com/np/search?component=' \\\n",
    "            + f'&q={class_name_kor}' \\\n",
    "            + f'&page={filter_page_num}' \\\n",
    "            + f'&listSize={filter_list_size}' \\\n",
    "            + f'&filter={dict_filter_color[color_name_kor]}'\n",
    "        print(class_name_kor, color_name_kor)\n",
    "        print(url)\n",
    "        \n",
    "\n",
    "        headers = {\"User-Agent\": user_agent, \n",
    "                  \"Accept-Language\": \"ko-KR,ko;q=0.8,en-US;q=0.5,en;q=0.3\"}\n",
    "\n",
    "        res = requests.get(url, headers=headers, verify=False)\n",
    "        res.raise_for_status()\n",
    "        soup = BeautifulSoup(res.text, \"lxml\") \n",
    "\n",
    "        titles = soup.select('#productList > li')\n",
    "        print(f'검색결과: {len(titles)}')\n",
    "        \n",
    "        # ---------------------------------------------------------------------\n",
    "        \n",
    "        number = 0\n",
    "        \n",
    "        download_path = download_folder +'/'+ class_name_eng +'/'+ color_name_eng\n",
    "#         print(download_path)\n",
    "        num_exist_files = len(os.listdir(download_path))\n",
    "        \n",
    "        if num_exist_files == filter_list_size:\n",
    "            print(f\"!!MSG : {num_exist_files} files exist. PASS. ({class_name_kor}, {color_name_kor})\")\n",
    "        else:\n",
    "            \n",
    "            for title in tqdm(titles):\n",
    "                number = number + 1\n",
    "\n",
    "                # 상품명\n",
    "                title_str = title.select_one('a > dl > dd > div > div.name').text\n",
    "#                 print(title_str)\n",
    "\n",
    "                # 이미지 링크\n",
    "                product_title = title.select_one('a > dl > dt > img')['src']\n",
    "                if product_title == \"//img1a.coupangcdn.com/image/coupang/search/blank1x1.gif\":\n",
    "                    product_title = title.select_one('a > dl > dt > img')['data-img-src']\n",
    "                product_title = re.sub('\\n','', product_title)\n",
    "                product_title = product_title.lstrip()\n",
    "                img_url = 'https:'+product_title\n",
    "#                 print('[' + str(number) + ']', img_url)\n",
    "                \n",
    "                split_url = img_url.split('230x230ex')\n",
    "                new_img_url = split_url[0] + f'{new_img_size}x{new_img_size}ex' + split_url[1]\n",
    "\n",
    "                try:\n",
    "                    urllib.request.urlretrieve(new_img_url, f\"{download_path}/{class_name_eng}_{color_name_eng}_{number}.jpg\")\n",
    "                except:\n",
    "                    print(f\"!!ERR : {class_name_kor},{color_name_kor}\")\n",
    "                sleep(random.uniform(0.1, 0.5))\n",
    "\n",
    "        sleep(1)\n",
    "#         break\n",
    "#     break"
   ]
  },
  {
   "cell_type": "code",
   "execution_count": 16,
   "id": "188a2ea0",
   "metadata": {},
   "outputs": [],
   "source": []
  },
  {
   "cell_type": "code",
   "execution_count": null,
   "id": "140a73a1",
   "metadata": {},
   "outputs": [],
   "source": [
    "\n",
    "product_img_url = \"http:\"+ soup.select_one('#repImageContainer > img')['src']\n",
    "urllib.request.urlretrieve(product_img_url, \"이미지.jpg\")"
   ]
  },
  {
   "cell_type": "code",
   "execution_count": null,
   "id": "079139e1",
   "metadata": {},
   "outputs": [],
   "source": []
  },
  {
   "cell_type": "code",
   "execution_count": 10,
   "id": "a0399450",
   "metadata": {},
   "outputs": [
    {
     "data": {
      "text/plain": [
       "72"
      ]
     },
     "execution_count": 10,
     "metadata": {},
     "output_type": "execute_result"
    }
   ],
   "source": [
    "len(os.listdir('img_data/blouse/black'))\n"
   ]
  },
  {
   "cell_type": "code",
   "execution_count": null,
   "id": "a8c2f9a2",
   "metadata": {},
   "outputs": [],
   "source": []
  },
  {
   "cell_type": "code",
   "execution_count": null,
   "id": "211b6fcf",
   "metadata": {},
   "outputs": [],
   "source": []
  },
  {
   "cell_type": "code",
   "execution_count": null,
   "id": "866993d3",
   "metadata": {},
   "outputs": [],
   "source": []
  }
 ],
 "metadata": {
  "kernelspec": {
   "display_name": "color_extraction",
   "language": "python",
   "name": "color_extraction"
  },
  "language_info": {
   "codemirror_mode": {
    "name": "ipython",
    "version": 3
   },
   "file_extension": ".py",
   "mimetype": "text/x-python",
   "name": "python",
   "nbconvert_exporter": "python",
   "pygments_lexer": "ipython3",
   "version": "3.8.16"
  }
 },
 "nbformat": 4,
 "nbformat_minor": 5
}
