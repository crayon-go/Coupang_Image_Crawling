{
 "cells": [
  {
   "cell_type": "code",
   "execution_count": null,
   "id": "b89b4773",
   "metadata": {},
   "outputs": [],
   "source": [
    "from selenium import webdriver\n",
    "from fake_useragent import UserAgent\n",
    "import time"
   ]
  },
  {
   "cell_type": "code",
   "execution_count": null,
   "id": "91ccba9f",
   "metadata": {},
   "outputs": [],
   "source": [
    "\n",
    "options = webdriver.ChromeOptions()\n",
    "options.add_argument(\"--disable-blink-features=AutomationControlled\")\n",
    "user_ag = UserAgent().random\n",
    "options.add_argument('user-agent=%s'%user_ag)\n",
    "options.add_experimental_option(\"excludeSwitches\", [\"enable-automation\"])\n",
    "options.add_experimental_option(\"useAutomationExtension\", False)\n",
    "options.add_experimental_option(\"prefs\", {\"prfile.managed_default_content_setting.images\": 2})\n",
    "driver = webdriver.Chrome('chromedriver.exe', options=options)\n",
    "\n",
    "# 크롤링 방지 설정을 undefined로 변경\n",
    "driver.execute_cdp_cmd(\"Page.addScriptToEvaluateOnNewDocument\", {\n",
    "    \"source\": \"\"\"\n",
    "            Object.defineProperty(navigator, 'webdriver', {\n",
    "                get: () => undefined\n",
    "            })\n",
    "            \"\"\"\n",
    "})\n",
    "\n",
    "url = 'https://login.coupang.com/login/login.pang'\n",
    "driver.get(url=url)\n",
    "time.sleep(2)\n",
    "\n",
    "id_input = driver.find_element_by_xpath('//*[@id=\"login-email-input\"]')\n",
    "id_input.send_keys('쿠팡아이디')\n",
    "\n",
    "pw_input = driver.find_element_by_xpath('//*[@id=\"login-password-input\"]')\n",
    "pw_input.send_keys('쿠팡패스워드')\n",
    "\n",
    "driver.find_element_by_xpath('/html/body/div[1]/div/div/form/div[5]/button').click()"
   ]
  },
  {
   "cell_type": "code",
   "execution_count": null,
   "id": "6d1d43da",
   "metadata": {},
   "outputs": [],
   "source": []
  },
  {
   "cell_type": "code",
   "execution_count": null,
   "id": "03b50301",
   "metadata": {},
   "outputs": [],
   "source": []
  },
  {
   "cell_type": "code",
   "execution_count": null,
   "id": "b5dab386",
   "metadata": {},
   "outputs": [],
   "source": []
  },
  {
   "cell_type": "code",
   "execution_count": null,
   "id": "1a515fc5",
   "metadata": {},
   "outputs": [],
   "source": []
  },
  {
   "cell_type": "code",
   "execution_count": null,
   "id": "85949ca4",
   "metadata": {},
   "outputs": [],
   "source": []
  },
  {
   "cell_type": "code",
   "execution_count": null,
   "id": "3e4f0ded",
   "metadata": {},
   "outputs": [],
   "source": []
  },
  {
   "cell_type": "code",
   "execution_count": null,
   "id": "001804e5",
   "metadata": {},
   "outputs": [],
   "source": []
  },
  {
   "cell_type": "code",
   "execution_count": null,
   "id": "19ae15a5",
   "metadata": {},
   "outputs": [],
   "source": []
  },
  {
   "cell_type": "code",
   "execution_count": null,
   "id": "4ef0e437",
   "metadata": {},
   "outputs": [],
   "source": []
  },
  {
   "cell_type": "code",
   "execution_count": null,
   "id": "cb4c45a8",
   "metadata": {},
   "outputs": [],
   "source": []
  },
  {
   "cell_type": "code",
   "execution_count": null,
   "id": "a6600b7d",
   "metadata": {},
   "outputs": [],
   "source": []
  },
  {
   "cell_type": "code",
   "execution_count": null,
   "id": "8a5748e0",
   "metadata": {},
   "outputs": [],
   "source": []
  },
  {
   "cell_type": "code",
   "execution_count": null,
   "id": "2b8ff5c7",
   "metadata": {},
   "outputs": [],
   "source": []
  },
  {
   "cell_type": "code",
   "execution_count": null,
   "id": "5ca75f2a",
   "metadata": {},
   "outputs": [],
   "source": []
  },
  {
   "cell_type": "code",
   "execution_count": null,
   "id": "2954fe29",
   "metadata": {},
   "outputs": [],
   "source": []
  },
  {
   "cell_type": "code",
   "execution_count": null,
   "id": "e62c8959",
   "metadata": {},
   "outputs": [],
   "source": []
  },
  {
   "cell_type": "code",
   "execution_count": null,
   "id": "1389c649",
   "metadata": {},
   "outputs": [],
   "source": []
  },
  {
   "cell_type": "code",
   "execution_count": null,
   "id": "485f3020",
   "metadata": {},
   "outputs": [],
   "source": []
  },
  {
   "cell_type": "code",
   "execution_count": 16,
   "id": "f75eaae3",
   "metadata": {},
   "outputs": [],
   "source": [
    "from bs4 import BeautifulSoup\n",
    "import requests\n",
    "from fake_useragent import UserAgent\n",
    "import ssl\n",
    "import urllib3\n",
    "import re\n",
    "urllib3.disable_warnings()"
   ]
  },
  {
   "cell_type": "code",
   "execution_count": 18,
   "id": "1da7f195",
   "metadata": {},
   "outputs": [],
   "source": [
    "# &page=1\n",
    "\n",
    "# &listSize=72"
   ]
  },
  {
   "cell_type": "code",
   "execution_count": 19,
   "id": "4fffbeba",
   "metadata": {},
   "outputs": [],
   "source": [
    "class_names_eng = ['blouse', 'cardigan', 'coat', 'hoodie', 'jacket', 'jumper','jumpsuit',\n",
    "                   'knit', 'longpants', 'onepiece', 'shirt', 'shortpants', 'skirt', 'tshirt']"
   ]
  },
  {
   "cell_type": "code",
   "execution_count": 20,
   "id": "604bbbe6",
   "metadata": {},
   "outputs": [],
   "source": [
    "class_names_kor = ['블라우스', '가디건', '코트', '후드티', '자켓', '점퍼', '점프수트',\n",
    "                   '니트', '긴바지', '원피스', '셔츠', '반바지', '치마', '티셔츠']"
   ]
  },
  {
   "cell_type": "code",
   "execution_count": 21,
   "id": "1cc36d99",
   "metadata": {},
   "outputs": [],
   "source": [
    "filter_color = {\n",
    "    \"블랙\" : \"&filter=1%23attr_10496%244278%40DEFAULT\",\n",
    "    \"화이트\" : \"&filter=1%23attr_10496%244289%40DEFAULT\",\n",
    "    \"레드\" : \"&filter=1%23attr_10496%244282%40DEFAULT\",\n",
    "    \"블루\" : \"&filter=1%23attr_10496%244286%40DEFAULT\",\n",
    "    \"옐로우\" : \"&filter=1%23attr_10496%244284%40DEFAULT\",\n",
    "    \"그린\" : \"&filter=1%23attr_10496%244285%40DEFAULT\",\n",
    "    \"퍼플\" : \"&filter=1%23attr_10496%244287%40DEFAULT\",\n",
    "    \"브라운\" : \"&filter=1%23attr_10496%244290%40DEFAULT\",\n",
    "    \"네이비\" : \"&filter=1%23attr_10496%244279%40DEFAULT\",\n",
    "    \"오렌지\" : \"&filter=1%23attr_10496%244283%40DEFAULT\",\n",
    "    \"그레이\" : \"&filter=1%23attr_10496%244280%40DEFAULT\",\n",
    "    \"핑크\" : \"&filter=1%23attr_10496%244288%40DEFAULT\",\n",
    "    \"베이지\" : \"&filter=1%23attr_10496%244292%40DEFAULT\"\n",
    "}"
   ]
  },
  {
   "cell_type": "code",
   "execution_count": null,
   "id": "82b64f24",
   "metadata": {},
   "outputs": [],
   "source": []
  },
  {
   "cell_type": "code",
   "execution_count": 22,
   "id": "2c816bce",
   "metadata": {},
   "outputs": [
    {
     "name": "stdout",
     "output_type": "stream",
     "text": [
      "36\n"
     ]
    }
   ],
   "source": [
    "# 원피스 검색\n",
    "# url = 'https://www.coupang.com/np/search?component=&q=원피스'\n",
    "url = 'https://www.coupang.com/np/search?rocketAll=false&searchId=928c924f13864a44aad7b67797168d82&q=%EC%9B%90%ED%94%BC%EC%8A%A4&brand=&offerCondition=&filter=1%23attr_10496%244278attr_10732%243727attr_3676%24747%40DEFAULT&availableDeliveryFilter=&filterType=&isPriceRange=false&priceRange=&minPrice=&maxPrice=&page=1&trcid=&traid=&filterSetByUser=true&channel=user&backgroundColor=&searchProductCount=39823&component=&rating=0&sorter=scoreDesc&listSize=36'\n",
    "\n",
    "headers = {\"User-Agent\":\"Mozilla/5.0 (Windows NT 10.0; Win64; x64) AppleWebKit/537.36 (KHTML, like Gecko) Chrome/90.0.4430.93 Safari/537.36\", \n",
    "          \"Accept-Language\": \"ko-KR,ko;q=0.8,en-US;q=0.5,en;q=0.3\"}\n",
    "res = requests.get(url, headers=headers, verify=False)\n",
    "\n",
    "res.raise_for_status()\n",
    "soup = BeautifulSoup(res.text, \"lxml\") \n",
    "\n",
    "titles = soup.select('#productList > li')\n",
    "print(len(titles))"
   ]
  },
  {
   "cell_type": "code",
   "execution_count": 23,
   "id": "6d40500b",
   "metadata": {
    "scrolled": true
   },
   "outputs": [
    {
     "data": {
      "text/plain": [
       "'셔츠원피스 여성 반소매 브이넷 블랙 베이지 하객원피스'"
      ]
     },
     "execution_count": 23,
     "metadata": {},
     "output_type": "execute_result"
    }
   ],
   "source": [
    "titles[0].select_one('a > dl > dd > div > div.name').text"
   ]
  },
  {
   "cell_type": "code",
   "execution_count": 28,
   "id": "cf7fbec2",
   "metadata": {},
   "outputs": [
    {
     "data": {
      "text/plain": [
       "<img alt=\"셔츠원피스 여성 반소매 브이넷 블랙 베이지 하객원피스\" class=\"search-product-wrap-img\" data-src=\"data:image/gif;base64,R0lGODlhAQABAAAAACH5BAEKAAEALAAAAAABAAEAAAICTAEAOw==\" height=\"230\" onerror=\"this.src='//img2a.coupangcdn.com/image/coupang/common/no_img_1000_1000.png'\" onload=\"logTime(this);logImageLoadTime(this);\" src=\"//thumbnail6.coupangcdn.com/thumbnails/remote/230x230ex/image/vendor_inventory/1c37/e0d368baa819ae15feae1246d213265f98464c85b8e5215627106a58bd46.jpg\" width=\"230\"/>"
      ]
     },
     "execution_count": 28,
     "metadata": {},
     "output_type": "execute_result"
    }
   ],
   "source": [
    "titles[0].select_one('a > dl > dt > img')"
   ]
  },
  {
   "cell_type": "code",
   "execution_count": 25,
   "id": "3cd0c14f",
   "metadata": {
    "scrolled": false
   },
   "outputs": [
    {
     "name": "stdout",
     "output_type": "stream",
     "text": [
      "//thumbnail6.coupangcdn.com/thumbnails/remote/230x230ex/image/vendor_inventory/1c37/e0d368baa819ae15feae1246d213265f98464c85b8e5215627106a58bd46.jpg\n",
      "//thumbnail8.coupangcdn.com/thumbnails/remote/230x230ex/image/vendor_inventory/d2e1/5c67fb9da6afab79918560faf45fe52307413665519847ae1d51f016f356.jpg\n",
      "//thumbnail9.coupangcdn.com/thumbnails/remote/230x230ex/image/rs_quotation_api/0p8otfgn/52e3ea17d13b451395260185e2bc98fb.jpg\n",
      "//thumbnail7.coupangcdn.com/thumbnails/remote/230x230ex/image/vendor_inventory/ec4c/6454605356fbfead4c8922b56adf0e943638a49bd722a415b2a869578d6c.png\n",
      "//thumbnail7.coupangcdn.com/thumbnails/remote/230x230ex/image/vendor_inventory/941b/5e2a1c812c7a4a4456c114326a97135083cf02c82b75a32faca154e1546e.jpg\n",
      "//thumbnail6.coupangcdn.com/thumbnails/remote/230x230ex/image/vendor_inventory/3d9d/33319bc2859f4acc702ed17dd9d2fead79fec75839df057c5ec405151d8a.jpg\n",
      "//thumbnail8.coupangcdn.com/thumbnails/remote/230x230ex/image/vendor_inventory/899c/5387bf9eda97a6f83fdd29e50b6a1a475a76b62f726f73574268fb4b5c06.jpg\n",
      "//thumbnail6.coupangcdn.com/thumbnails/remote/230x230ex/image/vendor_inventory/8941/30469cceec513263d2a12b1f4c502a33627dba397bacbe63d93ffc855810.jpg\n",
      "//img1a.coupangcdn.com/image/coupang/search/blank1x1.gif\n",
      "//img1a.coupangcdn.com/image/coupang/search/blank1x1.gif\n",
      "//img1a.coupangcdn.com/image/coupang/search/blank1x1.gif\n",
      "//img1a.coupangcdn.com/image/coupang/search/blank1x1.gif\n",
      "//img1a.coupangcdn.com/image/coupang/search/blank1x1.gif\n",
      "//img1a.coupangcdn.com/image/coupang/search/blank1x1.gif\n",
      "//img1a.coupangcdn.com/image/coupang/search/blank1x1.gif\n",
      "//img1a.coupangcdn.com/image/coupang/search/blank1x1.gif\n",
      "//img1a.coupangcdn.com/image/coupang/search/blank1x1.gif\n",
      "//img1a.coupangcdn.com/image/coupang/search/blank1x1.gif\n",
      "//img1a.coupangcdn.com/image/coupang/search/blank1x1.gif\n",
      "//img1a.coupangcdn.com/image/coupang/search/blank1x1.gif\n",
      "//img1a.coupangcdn.com/image/coupang/search/blank1x1.gif\n",
      "//img1a.coupangcdn.com/image/coupang/search/blank1x1.gif\n",
      "//img1a.coupangcdn.com/image/coupang/search/blank1x1.gif\n",
      "//img1a.coupangcdn.com/image/coupang/search/blank1x1.gif\n",
      "//img1a.coupangcdn.com/image/coupang/search/blank1x1.gif\n",
      "//img1a.coupangcdn.com/image/coupang/search/blank1x1.gif\n",
      "//img1a.coupangcdn.com/image/coupang/search/blank1x1.gif\n",
      "//img1a.coupangcdn.com/image/coupang/search/blank1x1.gif\n",
      "//img1a.coupangcdn.com/image/coupang/search/blank1x1.gif\n",
      "//img1a.coupangcdn.com/image/coupang/search/blank1x1.gif\n",
      "//img1a.coupangcdn.com/image/coupang/search/blank1x1.gif\n",
      "//img1a.coupangcdn.com/image/coupang/search/blank1x1.gif\n",
      "//img1a.coupangcdn.com/image/coupang/search/blank1x1.gif\n",
      "//img1a.coupangcdn.com/image/coupang/search/blank1x1.gif\n",
      "//img1a.coupangcdn.com/image/coupang/search/blank1x1.gif\n",
      "//img1a.coupangcdn.com/image/coupang/search/blank1x1.gif\n"
     ]
    }
   ],
   "source": [
    "\n",
    "number = 0\n",
    "\n",
    "for title in titles:\n",
    "    number = number + 1\n",
    "    product_title = title.select_one('a > dl > dt > img')['src']\n",
    "    print(product_title)\n",
    "#     product_title = re.sub('\\n','', product_title)\n",
    "#     product_title = product_title.lstrip()\n",
    "#     print('[' + str(number) + ']', product_title)"
   ]
  },
  {
   "cell_type": "code",
   "execution_count": null,
   "id": "6a3773c2",
   "metadata": {},
   "outputs": [],
   "source": []
  },
  {
   "cell_type": "code",
   "execution_count": 30,
   "id": "5694a410",
   "metadata": {},
   "outputs": [
    {
     "name": "stdout",
     "output_type": "stream",
     "text": [
      "[1] 셔츠원피스 여성 반소매 브이넷 블랙 베이지 하객원피스\n",
      "[2] 여성용 베이직 실키 슬립\n",
      "[3] 피핀 여성용 믹스도트 스트링 원피스 #38212\n",
      "[4] JQS 865 섹시 홀복 파티룩 클럽 하객 빅사이즈 2XL 셔링 원피스\n",
      "[5] 템테이션 라운드넥 셔링 미니원피스 섹시원피스(당일배송)/1개만 구매해도 사은품 증정\n",
      "[6] 필굿웨어 원피스 슬립 C5902F\n",
      "[7] 버튼 자켓 원피스\n",
      "[8] 요모조모 1847 시스루 브이넥 정장 원피스\n",
      "[9] 러블리 끈 나시 웨이브 미니 원피스\n",
      "[10] 채윤러브 여성 력셔리 롱원피스\n",
      "[11] 앤더데이 부드러운 숙면 발포나염 원피스\n",
      "[12] 힐링잠옷 모던 플레어 원피스 홈웨어\n",
      "[13] 투디 제니 하운드 체크원피스\n",
      "[14] 클럽 파티룩 긴팔 배색 미니 섹시 앞지퍼원피스\n",
      "[15] 빼빼 여성용 벌룬 레이온 캉캉 롱원피스\n",
      "[16] 여성용 구디프 슬림허리 브이넥 시크스타일 원피스\n",
      "[17] 투디 트렌치 원피스 롱원피스 셔츠원피스 하객원피스 하객룩\n",
      "[18] 페이퍼먼츠 단정한 셔츠 플레어 미디 원피스 03923\n",
      "[19] 플랜데이 리드 베이직 허리 스트링 플리츠 긴팔 롱 원피스\n",
      "[20] 빼빼 여성용 벨트세트 플리츠 롱원피스\n",
      "[21] 프롬코 여성 깔끔한 씨링 패턴 롱 랩 원피스 FRC172\n",
      "[22] 대박난박양 제시 부츠컷 데님 팬츠\n",
      "[23] 티탁 빅사이즈 카라넥 단추 스트링 셔링 포켓 하프 셔츠 롱원피스\n",
      "[24] 엘라운지 똥배보정 메쉬 노라인 햄팬티 3매\n",
      "[25] 포플러앤씨 시크 벨트 원피스\n",
      "[26] 아이엠몽 여성 타이 V넥 긴팔 니트 미니 원피스 슬림핏 데이트룩\n",
      "[27] 빼빼 여성용 배색레터링 캉캉 코튼 롱 원피스\n",
      "[28] 채윤러브 여름 줄무늬 스트라이프 여성 민소매 나시 롱 원피스\n",
      "[29] 글램디브 볼레로 긴팔 미니원피스 보니리 AG1617\n",
      "[30] 대박난박양 슬리브리스 슬림 원피스 베이지+블랙 (2개)\n",
      "[31] MA 빅사이즈 하프넥 셔링 롱 원피스\n",
      "[32] 캐럿 여성 프런트 셔링 롱 반팔 원피스\n",
      "[33] 채윤러브 chaeyoon love 여성 망사 시스루 브이넥 섹시 힙랩 슬림핏 홀복 파티룩 원피스\n",
      "[34] 비나인 롤루 허리 터널 원피스\n",
      "[35] 글램디브 트래핀 단추 쉬폰배색 시스루 미니 원피스\n",
      "[36] 라라랜드 원피스 단색 햅번 복고풍 A라인 플레어 무지드레스\n"
     ]
    }
   ],
   "source": [
    "\n",
    "number = 0\n",
    "\n",
    "for title in titles:\n",
    "    number = number + 1\n",
    "    product_title = title.select_one('a > dl > dd > div > div.name').text\n",
    "    product_title = re.sub('\\n','', product_title)\n",
    "    product_title = product_title.lstrip()\n",
    "    print('[' + str(number) + ']', product_title)"
   ]
  },
  {
   "cell_type": "code",
   "execution_count": null,
   "id": "134186fa",
   "metadata": {},
   "outputs": [],
   "source": []
  },
  {
   "cell_type": "code",
   "execution_count": null,
   "id": "0e94ee87",
   "metadata": {},
   "outputs": [],
   "source": []
  },
  {
   "cell_type": "code",
   "execution_count": null,
   "id": "140a73a1",
   "metadata": {},
   "outputs": [],
   "source": [
    "product_img_url = \"http:\"+ soup.select_one('#repImageContainer > img')['src']\n",
    "urllib.request.urlretrieve(product_img_url, \"이미지.jpg\")"
   ]
  },
  {
   "cell_type": "code",
   "execution_count": null,
   "id": "079139e1",
   "metadata": {},
   "outputs": [],
   "source": []
  },
  {
   "cell_type": "code",
   "execution_count": null,
   "id": "a0399450",
   "metadata": {},
   "outputs": [],
   "source": []
  },
  {
   "cell_type": "code",
   "execution_count": null,
   "id": "a8c2f9a2",
   "metadata": {},
   "outputs": [],
   "source": []
  },
  {
   "cell_type": "code",
   "execution_count": null,
   "id": "211b6fcf",
   "metadata": {},
   "outputs": [],
   "source": []
  },
  {
   "cell_type": "code",
   "execution_count": null,
   "id": "866993d3",
   "metadata": {},
   "outputs": [],
   "source": []
  }
 ],
 "metadata": {
  "kernelspec": {
   "display_name": "color_extraction",
   "language": "python",
   "name": "color_extraction"
  },
  "language_info": {
   "codemirror_mode": {
    "name": "ipython",
    "version": 3
   },
   "file_extension": ".py",
   "mimetype": "text/x-python",
   "name": "python",
   "nbconvert_exporter": "python",
   "pygments_lexer": "ipython3",
   "version": "3.8.16"
  }
 },
 "nbformat": 4,
 "nbformat_minor": 5
}
